{
 "cells": [
  {
   "cell_type": "markdown",
   "metadata": {},
   "source": [
    "# IIoT Network Analysis: Age of Information and Reliability Trade-offs"
   ]
  },
  {
   "cell_type": "code",
   "execution_count": null,
   "metadata": {},
   "outputs": [],
   "source": [
    "# Import necessary libraries\n",
    "import pandas as pd\n",
    "import numpy as np\n",
    "import matplotlib.pyplot as plt\n",
    "import seaborn as sns\n",
    "from sklearn.model_selection import train_test_split\n",
    "from sklearn.preprocessing import StandardScaler\n",
    "from sklearn.ensemble import RandomForestRegressor\n",
    "from sklearn.metrics import mean_squared_error, r2_score\n",
    "import tensorflow as tf"
   ]
  },
  {
   "cell_type": "code",
   "execution_count": null,
   "metadata": {},
   "outputs": [],
   "source": [
    "# Load the dataset\n",
    "df = pd.read_csv('iiot_network_data.csv')"
   ]
  },
  {
   "cell_type": "markdown",
   "metadata": {},
   "source": [
    "# 1. Conceptual Understanding (20 points)\n",
    "\n",
    "\"\"\"\n",
    "Instructions:\n",
    "a) Explain the concept of Age of Information (AoI) in your own words and why it's important for IIoT applications.\n",
    "b) Describe the difference between AoI-oriented traffic and deadline-oriented traffic in IIoT networks. Provide real-world examples for each.\n",
    "\n",
    "Write your answers here:\n",
    "\n",
    "a) Age of Information (AoI) explanation:\n",
    "\n",
    "\n",
    "b) AoI-oriented vs deadline-oriented traffic:\n"
   ]
  },
  {
   "cell_type": "markdown",
   "metadata": {},
   "source": [
    "# 2. Data Exploration and Visualizaton \n",
    "Instructions:\n",
    "a) Explore the dataset using pandas. Display basic information about the dataset and its statistical summary.\n",
    "b) Create at least two visualizations using matplotlib or seaborn to show relationships between AoI, PLP, and other network parameters.\n",
    "c) Identify and discuss any patterns or trends you observe in the data.\n",
    "\n",
    "Complete the code below and add your observations."
   ]
  },
  {
   "cell_type": "code",
   "execution_count": null,
   "metadata": {},
   "outputs": [],
   "source": [
    "# Display basic information about the dataset\n",
    "print(df.info())\n",
    "print(df.describe())\n",
    "\n",
    "# Create visualizations\n",
    "plt.figure(figsize=(12, 6))\n",
    "# Add your code here to create a scatter plot of transmission_probability vs age_of_information\n",
    "\n",
    "\n",
    "plt.figure(figsize=(12, 6))\n",
    "# Add your code here to create another relevant visualization\n",
    "\n",
    "# Add more visualizations as needed\n",
    "\n"
   ]
  },
  {
   "cell_type": "markdown",
   "metadata": {},
   "source": [
    "## Write your observations about the data and visualizations here:"
   ]
  },
  {
   "cell_type": "markdown",
   "metadata": {},
   "source": [
    "# 3. Machine Learning Model Development (35 points)\n",
    "\n",
    "Instructions:\n",
    "a) Prepare the data for machine learning (feature selection, scaling).\n",
    "b) Develop a Random Forest model to predict AoI based on other network parameters.\n",
    "c) Train and evaluate your model, discussing its performance and limitations.\n",
    "d) Use your model to generate predictions for new, hypothetical network configurations.\n",
    "\n",
    "Complete the code below and add your analysis."
   ]
  },
  {
   "cell_type": "code",
   "execution_count": null,
   "metadata": {},
   "outputs": [],
   "source": [
    "# Prepare the data\n",
    "X = df[['transmission_probability', 'capture_threshold', 'num_nodes', 'channel_quality']]\n",
    "y_aoi = df['age_of_information']\n",
    "\n",
    "# Split the data\n",
    "X_train, X_test, y_train, y_test = train_test_split(X, y_aoi, test_size=0.2, random_state=42)\n",
    "\n",
    "# Scale the features\n",
    "scaler = StandardScaler()\n",
    "X_train_scaled = scaler.fit_transform(X_train)\n",
    "X_test_scaled = scaler.transform(X_test)\n",
    "\n",
    "# Train Random Forest model\n",
    "rf_model = RandomForestRegressor(n_estimators=100, random_state=42)\n",
    "# Add your code here to fit the model"
   ]
  },
  {
   "cell_type": "code",
   "execution_count": null,
   "metadata": {},
   "outputs": [],
   "source": [
    "# Make predictions\n",
    "# Add your code here to make predictions on the test set\n",
    "\n",
    "# Evaluate the model\n",
    "# Add your code here to calculate MSE and R2 score\n",
    "\n",
    "# Feature importance\n",
    "# Add your code here to display feature importances"
   ]
  },
  {
   "cell_type": "markdown",
   "metadata": {},
   "source": [
    "## Write your analysis of the model performance and feature importances here:\n"
   ]
  },
  {
   "cell_type": "code",
   "execution_count": null,
   "metadata": {},
   "outputs": [],
   "source": [
    "# Generate predictions for new, hypothetical network configurations:\n",
    "\n",
    "\n",
    "# Create a DataFrame with hypothetical network configurations\n",
    "new_configs = pd.DataFrame({\n",
    "    'transmission_probability': [0.5, 0.7, 0.9],\n",
    "    'capture_threshold': [0, 1, -1],\n",
    "    'num_nodes': [3, 5, 7],\n",
    "    'channel_quality': [0.6, 0.8, 0.4]\n",
    "})\n",
    "\n",
    "# Add your code here to make predictions for these new configurations\n"
   ]
  },
  {
   "cell_type": "markdown",
   "metadata": {},
   "source": [
    "# 4. Analysis and Insights (20 points)\n",
    "### Instructions:\n",
    "Based on your data exploration and machine learning results:\n",
    "a) Discuss the key factors that appear to influence the AoI-PLP trade-off in IIoT networks.\n",
    "b) Propose strategies for optimizing network performance to balance data freshness and reliability.\n",
    "c) Describe potential real-world applications of your insights in an IIoT context.\n",
    "\n",
    "Write your analysis and insights here:"
   ]
  },
  {
   "cell_type": "markdown",
   "metadata": {},
   "source": [
    "# 5. Bonus Challenge (10 points)\n",
    "\n",
    "\"\"\"\n",
    "Instructions:\n",
    "Implement a simple deep learning model (e.g., a basic neural network) to predict both AoI and PLP simultaneously. \n",
    "Compare its performance with your previous model and discuss any differences.\n",
    "\n",
    "Complete the code below and add your analysis."
   ]
  },
  {
   "cell_type": "code",
   "execution_count": null,
   "metadata": {},
   "outputs": [],
   "source": [
    "# Prepare data for deep learning model\n",
    "y_plp = df['packet_loss_probability']\n",
    "X_train, X_test, y_aoi_train, y_aoi_test, y_plp_train, y_plp_test = train_test_split(\n",
    "    X, y_aoi, y_plp, test_size=0.2, random_state=42)"
   ]
  },
  {
   "cell_type": "code",
   "execution_count": null,
   "metadata": {},
   "outputs": [],
   "source": [
    "# Create a simple neural network\n",
    "model = tf.keras.Sequential([\n",
    "    tf.keras.layers.Dense(64, activation='relu', input_shape=(4,)),\n",
    "    tf.keras.layers.Dense(32, activation='relu'),\n",
    "    tf.keras.layers.Dense(2)  # Output layer for AoI and PLP\n",
    "])\n",
    "\n",
    "model.compile(optimizer='adam', loss='mse')\n",
    "\n",
    "# Train the model\n",
    "# Add your code here to fit the model\n",
    "\n",
    "# Evaluate the model\n",
    "# Add your code here to make predictions and calculate MSE for both AoI and PLP"
   ]
  },
  {
   "cell_type": "markdown",
   "metadata": {},
   "source": [
    "## Write your comparison of the deep learning model with the Random Forest model here:"
   ]
  }
 ],
 "metadata": {
  "language_info": {
   "name": "python"
  }
 },
 "nbformat": 4,
 "nbformat_minor": 2
}
